{
 "cells": [
  {
   "cell_type": "markdown",
   "metadata": {},
   "source": [
    "## I am going to create 4 functions with basic math operation. "
   ]
  },
  {
   "cell_type": "code",
   "execution_count": 1,
   "metadata": {},
   "outputs": [],
   "source": [
    "def sum(num1,num2):\n",
    "    return num1 + num2\n",
    "def resta(num1,num2):\n",
    "    return num1 - num2\n",
    "def multiplica(num1,num2):\n",
    "    return num1 * num2\n",
    "def divide(num1,num2):\n",
    "    try:\n",
    "        return num1 / num2\n",
    "    except ZeroDivisionError:\n",
    "        print(\"No se puede dividir entre 0\")\n",
    "        return \"Operacion erronea\"\n"
   ]
  },
  {
   "cell_type": "markdown",
   "metadata": {},
   "source": [
    "## Now I will define the interaction question with the user"
   ]
  },
  {
   "cell_type": "code",
   "execution_count": null,
   "metadata": {},
   "outputs": [],
   "source": [
    "while True:\n",
    "    try:\n",
    "        op1=(int(input(\"Introduce el primer numero: \")))\n",
    "        op2=(int(input(\"Introduce el segundo numero: \")))\n",
    "        break;\n",
    "    except ValueError:\n",
    "        print(\"Por favor introduzca un numero entero. Intentalo de nuevo\")\n",
    "\n",
    "operacion= input(\"Introduce la operacion a realizar (suma,resta,multiplica,divide): \")\n"
   ]
  },
  {
   "cell_type": "markdown",
   "metadata": {},
   "source": [
    "## Finally we need to create the condition of the program"
   ]
  },
  {
   "cell_type": "code",
   "execution_count": 20,
   "metadata": {},
   "outputs": [
    {
     "name": "stdout",
     "output_type": "stream",
     "text": [
      "0.8\n",
      " Fin del programa\n"
     ]
    }
   ],
   "source": [
    "if operacion == \"suma\":\n",
    "    print(sum(op1,op2))\n",
    "elif operacion == \"resta\":\n",
    "    print(resta(op1,op2))\n",
    "elif operacion == \"multiplica\":\n",
    "    print(multiplica(op1,op2))\n",
    "elif operacion == \"divide\":\n",
    "    print(divide(op1,op2))        \n",
    "else:\n",
    "    print(\"Operacion no valida\")\n",
    "\n",
    "print(\" Fin del programa\")"
   ]
  }
 ],
 "metadata": {
  "kernelspec": {
   "display_name": "Python 3",
   "language": "python",
   "name": "python3"
  },
  "language_info": {
   "codemirror_mode": {
    "name": "ipython",
    "version": 3
   },
   "file_extension": ".py",
   "mimetype": "text/x-python",
   "name": "python",
   "nbconvert_exporter": "python",
   "pygments_lexer": "ipython3",
   "version": "3.7.6"
  }
 },
 "nbformat": 4,
 "nbformat_minor": 4
}
